{
 "cells": [
  {
   "cell_type": "markdown",
   "metadata": {},
   "source": [
    "SCARCASM"
   ]
  },
  {
   "cell_type": "markdown",
   "metadata": {},
   "source": [
    "Loading Datasets"
   ]
  },
  {
   "cell_type": "code",
   "execution_count": 29,
   "metadata": {},
   "outputs": [],
   "source": [
    "import json\n",
    "\n",
    "file = \"C:\\\\Users\\\\sound\\\\Downloads\\\\archivescarcasm\\\\Sarcasm_Headlines_Dataset_v2.json\"\n",
    "datastore = []\n",
    "\n",
    "with open(file, 'r') as f:\n",
    "    for line in f:\n",
    "        datastore.append(json.loads(line))\n",
    "\n",
    "sentences = []\n",
    "labels = []\n",
    "urls = []\n",
    "\n",
    "for item in datastore:\n",
    "    sentences.append(item['headline'])\n",
    "    labels.append(item['is_sarcastic'])\n",
    "    \n"
   ]
  },
  {
   "cell_type": "markdown",
   "metadata": {},
   "source": [
    "Parameters"
   ]
  },
  {
   "cell_type": "code",
   "execution_count": 30,
   "metadata": {},
   "outputs": [],
   "source": [
    "vocab_size = 10000\n",
    "emb_dim = 16\n",
    "max_length = 30\n",
    "trunc = 'post'\n",
    "padding_type = 'post'\n",
    "oov_tokn = '<OOV>'\n",
    "training_size = 20000"
   ]
  },
  {
   "cell_type": "markdown",
   "metadata": {},
   "source": [
    "Spiliting Data"
   ]
  },
  {
   "cell_type": "code",
   "execution_count": 32,
   "metadata": {},
   "outputs": [],
   "source": [
    "from tensorflow.keras.preprocessing.text import Tokenizer\n",
    "from tensorflow.keras.preprocessing.sequence import pad_sequences\n",
    "\n",
    "training_sentences = sentences[0:training_size]\n",
    "testing_sentences = sentences[training_size:]\n",
    "training_labels =labels[0:training_size]\n",
    "testing_labels = labels[training_size:]"
   ]
  },
  {
   "cell_type": "markdown",
   "metadata": {},
   "source": [
    "Tokenizing and Padding"
   ]
  },
  {
   "cell_type": "code",
   "execution_count": 33,
   "metadata": {},
   "outputs": [],
   "source": [
    "tokenizer = Tokenizer(num_words =vocab_size, oov_token =oov_tokn )\n",
    "tokenizer.fit_on_texts(training_sentences)\n",
    "\n",
    "word_index = tokenizer.word_index\n",
    "\n",
    "training_sequences = tokenizer.texts_to_sequences(training_sentences)\n",
    "training_padded = pad_sequences(training_sequences, maxlen=max_length, padding=padding_type, truncating=trunc)\n",
    "\n",
    "testing_sequences = tokenizer.texts_to_sequences(testing_sentences)\n",
    "testing_padded = pad_sequences(testing_sequences,maxlen = max_length, padding = padding_type, truncating =trunc)"
   ]
  },
  {
   "cell_type": "code",
   "execution_count": 38,
   "metadata": {},
   "outputs": [],
   "source": [
    "import numpy as np\n",
    "\n",
    "training_padded = np.array(training_padded)\n",
    "testing_padded = np.array(testing_padded)\n",
    "training_labels = np.array(training_labels)\n",
    "testing_labels = np.array(testing_labels)"
   ]
  },
  {
   "cell_type": "markdown",
   "metadata": {},
   "source": [
    "Model"
   ]
  },
  {
   "cell_type": "code",
   "execution_count": 39,
   "metadata": {},
   "outputs": [
    {
     "name": "stdout",
     "output_type": "stream",
     "text": [
      "Model: \"sequential_4\"\n",
      "_________________________________________________________________\n",
      " Layer (type)                Output Shape              Param #   \n",
      "=================================================================\n",
      " embedding_5 (Embedding)     (None, 30, 16)            160000    \n",
      "                                                                 \n",
      " global_average_pooling1d_5  (None, 16)                0         \n",
      "  (GlobalAveragePooling1D)                                       \n",
      "                                                                 \n",
      " dense_8 (Dense)             (None, 24)                408       \n",
      "                                                                 \n",
      " dense_9 (Dense)             (None, 1)                 25        \n",
      "                                                                 \n",
      "=================================================================\n",
      "Total params: 160433 (626.69 KB)\n",
      "Trainable params: 160433 (626.69 KB)\n",
      "Non-trainable params: 0 (0.00 Byte)\n",
      "_________________________________________________________________\n"
     ]
    }
   ],
   "source": [
    "import tensorflow as tf\n",
    "\n",
    "\n",
    "model = tf.keras.Sequential([\n",
    "  tf.keras.layers.Embedding(vocab_size, emb_dim, input_length = max_length),\n",
    "  tf.keras.layers.GlobalAveragePooling1D(),\n",
    "  tf.keras.layers.Dense(24, activation = 'relu'),\n",
    "  tf.keras.layers.Dense(1, activation = 'sigmoid')\n",
    "])\n",
    "\n",
    "model.compile(\n",
    "  loss ='binary_crossentropy',\n",
    "  optimizer ='adam',\n",
    "  metrics =['accuracy']\n",
    ")\n",
    "model.summary()"
   ]
  },
  {
   "cell_type": "markdown",
   "metadata": {},
   "source": [
    "Training"
   ]
  },
  {
   "cell_type": "code",
   "execution_count": 40,
   "metadata": {},
   "outputs": [
    {
     "name": "stdout",
     "output_type": "stream",
     "text": [
      "Epoch 1/30\n",
      "WARNING:tensorflow:From c:\\Users\\sound\\anaconda3\\Lib\\site-packages\\keras\\src\\utils\\tf_utils.py:492: The name tf.ragged.RaggedTensorValue is deprecated. Please use tf.compat.v1.ragged.RaggedTensorValue instead.\n",
      "\n",
      "WARNING:tensorflow:From c:\\Users\\sound\\anaconda3\\Lib\\site-packages\\keras\\src\\engine\\base_layer_utils.py:384: The name tf.executing_eagerly_outside_functions is deprecated. Please use tf.compat.v1.executing_eagerly_outside_functions instead.\n",
      "\n",
      "625/625 - 4s - loss: 0.5665 - accuracy: 0.7106 - val_loss: 0.3915 - val_accuracy: 0.8320 - 4s/epoch - 7ms/step\n",
      "Epoch 2/30\n",
      "625/625 - 2s - loss: 0.3164 - accuracy: 0.8722 - val_loss: 0.3296 - val_accuracy: 0.8579 - 2s/epoch - 3ms/step\n",
      "Epoch 3/30\n",
      "625/625 - 2s - loss: 0.2387 - accuracy: 0.9069 - val_loss: 0.3325 - val_accuracy: 0.8552 - 2s/epoch - 3ms/step\n",
      "Epoch 4/30\n",
      "625/625 - 2s - loss: 0.1934 - accuracy: 0.9280 - val_loss: 0.3479 - val_accuracy: 0.8473 - 2s/epoch - 3ms/step\n",
      "Epoch 5/30\n",
      "625/625 - 2s - loss: 0.1628 - accuracy: 0.9401 - val_loss: 0.3670 - val_accuracy: 0.8488 - 2s/epoch - 3ms/step\n",
      "Epoch 6/30\n",
      "625/625 - 2s - loss: 0.1372 - accuracy: 0.9510 - val_loss: 0.4096 - val_accuracy: 0.8414 - 2s/epoch - 3ms/step\n",
      "Epoch 7/30\n",
      "625/625 - 2s - loss: 0.1187 - accuracy: 0.9599 - val_loss: 0.4523 - val_accuracy: 0.8322 - 2s/epoch - 3ms/step\n",
      "Epoch 8/30\n",
      "625/625 - 2s - loss: 0.1031 - accuracy: 0.9650 - val_loss: 0.4818 - val_accuracy: 0.8314 - 2s/epoch - 3ms/step\n",
      "Epoch 9/30\n",
      "625/625 - 2s - loss: 0.0890 - accuracy: 0.9705 - val_loss: 0.5290 - val_accuracy: 0.8277 - 2s/epoch - 3ms/step\n",
      "Epoch 10/30\n",
      "625/625 - 2s - loss: 0.0779 - accuracy: 0.9753 - val_loss: 0.5754 - val_accuracy: 0.8234 - 2s/epoch - 3ms/step\n",
      "Epoch 11/30\n",
      "625/625 - 2s - loss: 0.0679 - accuracy: 0.9790 - val_loss: 0.6276 - val_accuracy: 0.8210 - 2s/epoch - 3ms/step\n",
      "Epoch 12/30\n",
      "625/625 - 2s - loss: 0.0592 - accuracy: 0.9825 - val_loss: 0.6783 - val_accuracy: 0.8180 - 2s/epoch - 3ms/step\n",
      "Epoch 13/30\n",
      "625/625 - 2s - loss: 0.0522 - accuracy: 0.9848 - val_loss: 0.7461 - val_accuracy: 0.8146 - 2s/epoch - 3ms/step\n",
      "Epoch 14/30\n",
      "625/625 - 2s - loss: 0.0454 - accuracy: 0.9868 - val_loss: 0.7905 - val_accuracy: 0.8140 - 2s/epoch - 3ms/step\n",
      "Epoch 15/30\n",
      "625/625 - 2s - loss: 0.0396 - accuracy: 0.9894 - val_loss: 0.8538 - val_accuracy: 0.8134 - 2s/epoch - 3ms/step\n",
      "Epoch 16/30\n",
      "625/625 - 2s - loss: 0.0344 - accuracy: 0.9908 - val_loss: 0.9020 - val_accuracy: 0.8117 - 2s/epoch - 3ms/step\n",
      "Epoch 17/30\n",
      "625/625 - 2s - loss: 0.0308 - accuracy: 0.9918 - val_loss: 0.9563 - val_accuracy: 0.8102 - 2s/epoch - 3ms/step\n",
      "Epoch 18/30\n",
      "625/625 - 2s - loss: 0.0274 - accuracy: 0.9933 - val_loss: 1.0235 - val_accuracy: 0.8078 - 2s/epoch - 3ms/step\n",
      "Epoch 19/30\n",
      "625/625 - 2s - loss: 0.0231 - accuracy: 0.9941 - val_loss: 1.1069 - val_accuracy: 0.8053 - 2s/epoch - 3ms/step\n",
      "Epoch 20/30\n",
      "625/625 - 2s - loss: 0.0211 - accuracy: 0.9947 - val_loss: 1.1393 - val_accuracy: 0.8038 - 2s/epoch - 3ms/step\n",
      "Epoch 21/30\n",
      "625/625 - 2s - loss: 0.0194 - accuracy: 0.9952 - val_loss: 1.2015 - val_accuracy: 0.8031 - 2s/epoch - 3ms/step\n",
      "Epoch 22/30\n",
      "625/625 - 2s - loss: 0.0170 - accuracy: 0.9955 - val_loss: 1.3217 - val_accuracy: 0.8004 - 2s/epoch - 3ms/step\n",
      "Epoch 23/30\n",
      "625/625 - 2s - loss: 0.0144 - accuracy: 0.9972 - val_loss: 1.3761 - val_accuracy: 0.7989 - 2s/epoch - 3ms/step\n",
      "Epoch 24/30\n",
      "625/625 - 2s - loss: 0.0134 - accuracy: 0.9968 - val_loss: 1.3930 - val_accuracy: 0.7985 - 2s/epoch - 3ms/step\n",
      "Epoch 25/30\n",
      "625/625 - 2s - loss: 0.0137 - accuracy: 0.9965 - val_loss: 1.4703 - val_accuracy: 0.7952 - 2s/epoch - 3ms/step\n",
      "Epoch 26/30\n",
      "625/625 - 2s - loss: 0.0131 - accuracy: 0.9966 - val_loss: 1.5349 - val_accuracy: 0.7964 - 2s/epoch - 3ms/step\n",
      "Epoch 27/30\n",
      "625/625 - 2s - loss: 0.0107 - accuracy: 0.9973 - val_loss: 1.5915 - val_accuracy: 0.7924 - 2s/epoch - 3ms/step\n",
      "Epoch 28/30\n",
      "625/625 - 2s - loss: 0.0100 - accuracy: 0.9975 - val_loss: 1.6774 - val_accuracy: 0.7944 - 2s/epoch - 3ms/step\n",
      "Epoch 29/30\n",
      "625/625 - 2s - loss: 0.0087 - accuracy: 0.9979 - val_loss: 1.7862 - val_accuracy: 0.7917 - 2s/epoch - 3ms/step\n",
      "Epoch 30/30\n",
      "625/625 - 2s - loss: 0.0091 - accuracy: 0.9977 - val_loss: 1.7421 - val_accuracy: 0.7930 - 2s/epoch - 3ms/step\n"
     ]
    }
   ],
   "source": [
    "no_epochs = 30\n",
    "\n",
    "history = model.fit(training_padded, training_labels, epochs=no_epochs, validation_data=(testing_padded, testing_labels), verbose=2)"
   ]
  },
  {
   "cell_type": "markdown",
   "metadata": {},
   "source": [
    "Accuracy and Loss"
   ]
  },
  {
   "cell_type": "code",
   "execution_count": 43,
   "metadata": {},
   "outputs": [
    {
     "data": {
      "image/png": "[encoded data removed]",
      "text/plain": [
       "<Figure size 640x480 with 1 Axes>"
      ]
     },
     "metadata": {},
     "output_type": "display_data"
    },
    {
     "data": {
      "image/png": "[encoded data removed]",
      "text/plain": [
       "<Figure size 640x480 with 1 Axes>"
      ]
     },
     "metadata": {},
     "output_type": "display_data"
    }
   ],
   "source": [
    "import matplotlib.pyplot as plt\n",
    "\n",
    "def plotg(history, name):\n",
    "  plt.plot(history.history[name])\n",
    "  plt.plot(history.history['val_'+name])\n",
    "  plt.xlabel(\"Epochs\")\n",
    "  plt.ylabel(name)\n",
    "  plt.legend([name, 'val_'+name])\n",
    "  plt.show()\n",
    "\n",
    "plotg(history, 'accuracy')\n",
    "plotg(history, 'loss')"
   ]
  },
  {
   "cell_type": "code",
   "execution_count": 49,
   "metadata": {},
   "outputs": [
    {
     "name": "stdout",
     "output_type": "stream",
     "text": [
      "Model saved successfully at: sarcasm_detection_model.h5\n"
     ]
    },
    {
     "name": "stderr",
     "output_type": "stream",
     "text": [
      "c:\\Users\\sound\\anaconda3\\Lib\\site-packages\\keras\\src\\engine\\training.py:3103: UserWarning: You are saving your model as an HDF5 file via `model.save()`. This file format is considered legacy. We recommend using instead the native Keras format, e.g. `model.save('my_model.keras')`.\n",
      "  saving_api.save_model(\n"
     ]
    }
   ],
   "source": [
    "# Assuming you have trained your model and stored it in the 'model' variable\n",
    "\n",
    "# Define the path where you want to save your model\n",
    "#model_path = \"sarcasm_detection_model.h5\"\n",
    "\n",
    "# Save the model\n",
    "#model.save(model_path)\n",
    "\n",
    "#print(\"Model saved successfully at:\", model_path)\n",
    "\n",
    "#from tensorflow.keras.models import load_model\n",
    "\n",
    "#loaded_model = load_model(\"sarcasm_detection_model.h5\")\n"
   ]
  },
  {
   "cell_type": "markdown",
   "metadata": {},
   "source": [
    "Prediction"
   ]
  },
  {
   "cell_type": "code",
   "execution_count": 55,
   "metadata": {},
   "outputs": [
    {
     "name": "stdout",
     "output_type": "stream",
     "text": [
      "1/1 [==============================] - 0s 27ms/step\n",
      "Man found dead in graveyard\n",
      "\n",
      "The input headline is sarcastic.\n",
      "Sarcasm Score: 0.9979974\n"
     ]
    }
   ],
   "source": [
    "def predict_sarcasm(prompt):\n",
    "    # Tokenize and preprocess the prompt\n",
    "    sequence = tokenizer.texts_to_sequences([prompt])\n",
    "    padded_sequence = pad_sequences(sequence, maxlen=max_length, padding=padding_type, truncating=trunc)\n",
    "    \n",
    "    # Predict using the model\n",
    "    prediction = model.predict(padded_sequence)[0][0]\n",
    "    \n",
    "    # Determine if the prediction indicates sarcasm\n",
    "    is_sarcastic = prediction >= 0.5\n",
    "    \n",
    "    return is_sarcastic, prediction\n",
    "\n",
    "# Prompt the user for input and test the model\n",
    "user_input = input(\"Enter a headline to test for sarcasm: \")\n",
    "\n",
    "is_sarcastic, sarcasm_score = predict_sarcasm(user_input)\n",
    "\n",
    "print(user_input)\n",
    "\n",
    "if is_sarcastic:\n",
    "    print(\"\\nThe input headline is sarcastic.\")\n",
    "else:\n",
    "    print(\"\\nThe input headline is not sarcastic.\")\n",
    "print(\"Sarcasm Score:\", sarcasm_score)"
   ]
  }
 ],
 "metadata": {
  "kernelspec": {
   "display_name": "base",
   "language": "python",
   "name": "python3"
  },
  "language_info": {
   "codemirror_mode": {
    "name": "ipython",
    "version": 3
   },
   "file_extension": ".py",
   "mimetype": "text/x-python",
   "name": "python",
   "nbconvert_exporter": "python",
   "pygments_lexer": "ipython3",
   "version": "3.11.3"
  }
 },
 "nbformat": 4,
 "nbformat_minor": 2
}
